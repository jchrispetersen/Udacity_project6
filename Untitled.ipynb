{
 "cells": [
  {
   "cell_type": "markdown",
   "metadata": {},
   "source": [
    "## Tableau Project:"
   ]
  },
  {
   "cell_type": "markdown",
   "metadata": {},
   "source": [
    "### Introduction:\n",
    "For this project, I selected the baseball data to transform into a Tableau story.  \n",
    "\n",
    "My initial version can be found here:\n",
    "https://public.tableau.com/views/TableauProjectv1_16028824221390/Story1?:language=en&:display_count=y&publish=yes&:origin=viz_share_link\n",
    "\n",
    "My final version after feedback can be found here:\n",
    "https://public.tableau.com/views/TableauProjectv2_16028843692490/Story1?:language=en&:display_count=y&publish=yes&:origin=viz_share_link\n"
   ]
  },
  {
   "cell_type": "markdown",
   "metadata": {},
   "source": [
    "### Summary:"
   ]
  },
  {
   "cell_type": "markdown",
   "metadata": {},
   "source": [
    "In this project, I have created several visualizations of the baseball data through Tableau.  There were limited fields in this dataset, but I wanted to use this data to see if there was a visual difference in performance (HR, Avg) based on a player's handedness, weight or hight.  "
   ]
  },
  {
   "cell_type": "markdown",
   "metadata": {},
   "source": [
    "### Design:"
   ]
  },
  {
   "cell_type": "markdown",
   "metadata": {},
   "source": [
    "I started by investigating the fields and chosing how I wanted to present this information.  A few of these initial choices were around the organization of my story, and what types of graphs would convey my message in the most clear manner.  I thought bar charts and plots may work well.  I wanted to have an overview of the data, then move onto how the other factors impact performnace.  Based on this initial design, I created my first story.  I then showed this project to my wife for feedback, and based on her suggestions, I modified the color of the visuals, I moved 2 charts from the initial page to a newly created one for easier viewing and added labels for enhanced clarification.  "
   ]
  },
  {
   "cell_type": "markdown",
   "metadata": {},
   "source": [
    "### Feedback:"
   ]
  },
  {
   "cell_type": "markdown",
   "metadata": {},
   "source": [
    "What do you notice in the visualization?\n",
    "\n",
    "- My wife said she noticed the colors, more specifically, she didn't like them and thought I could make them prettier.  \n",
    "\n",
    "What questions do you have about the data?\n",
    "\n",
    "- My wife's questions about there data were:\n",
    "    -Where it was sourced from?\n",
    "    -What types of fields were in the data, can it get more specific?\n",
    "\n",
    "What relationships do you notice?\n",
    "\n",
    "- She noticed that left handers tended to have a higher average across certain weights and heights.  \n",
    "\n",
    "What do you think is the main takeaway from this visualization?\n",
    "\n",
    "- She said her main takeaway is that there appears to be trends based on a player being a righty, lefty, or switch.  \n",
    "\n",
    "Is there something you don’t understand in the graphic?\n",
    "\n",
    "- She didn't understand some of the abbreviated labels and said those could be expanded, and thought the first page was too busy.   "
   ]
  },
  {
   "cell_type": "markdown",
   "metadata": {},
   "source": [
    "### Resources: \n",
    "n/a"
   ]
  },
  {
   "cell_type": "code",
   "execution_count": null,
   "metadata": {},
   "outputs": [],
   "source": []
  }
 ],
 "metadata": {
  "kernelspec": {
   "display_name": "Python 3",
   "language": "python",
   "name": "python3"
  },
  "language_info": {
   "codemirror_mode": {
    "name": "ipython",
    "version": 3
   },
   "file_extension": ".py",
   "mimetype": "text/x-python",
   "name": "python",
   "nbconvert_exporter": "python",
   "pygments_lexer": "ipython3",
   "version": "3.8.5"
  }
 },
 "nbformat": 4,
 "nbformat_minor": 4
}
